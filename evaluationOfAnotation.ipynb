{
 "cells": [
  {
   "cell_type": "code",
   "execution_count": 3,
   "id": "29330b00-bf8e-423b-a484-e8eece5252bc",
   "metadata": {},
   "outputs": [
    {
     "data": {
      "text/plain": [
       "dict_keys(['version', 'meta', 'image'])"
      ]
     },
     "execution_count": 3,
     "metadata": {},
     "output_type": "execute_result"
    }
   ],
   "source": [
    "import xmltodict\n",
    "import pprint\n",
    "import json\n",
    "from matplotlib import pyplot as plt\n",
    "import numpy as np\n",
    "\n",
    "with open('annotations.xml') as fd:\n",
    "    doc = xmltodict.parse(fd.read())\n",
    "\n",
    "doc[\"annotations\"].keys()"
   ]
  },
  {
   "cell_type": "code",
   "execution_count": 4,
   "id": "480d276b-6234-4bc9-b32c-db55047a2292",
   "metadata": {},
   "outputs": [],
   "source": [
    "names=[]\n",
    "counts=[]\n",
    "for a in range(0, len(doc[\"annotations\"][\"image\"])):\n",
    "    count_shev=0\n",
    "    names.append(doc[\"annotations\"][\"image\"][0]['@name'][17:])\n",
    "    if \"polyline\" in doc[\"annotations\"][\"image\"][a]:\n",
    "        for b in range(0, len(doc[\"annotations\"][\"image\"][a]['polyline'])):\n",
    "            if type(doc[\"annotations\"][\"image\"][a]['polyline'])!=dict:\n",
    "                if doc[\"annotations\"][\"image\"][a]['polyline'][b]['@label']=='Stitch':\n",
    "                    count_shev=count_shev+1\n",
    "    counts.append(count_shev)\n"
   ]
  },
  {
   "cell_type": "code",
   "execution_count": 5,
   "id": "c5e96f79-caa3-4f5c-9e91-a5f32aeb7f64",
   "metadata": {},
   "outputs": [],
   "source": [
    "import pandas as pd\n",
    "\n",
    "# Создаем DataFrame\n",
    "data = {\n",
    "    'filename': names,\n",
    "    'n_stiches': counts,\n",
    "}\n",
    "df = pd.DataFrame(data)\n",
    "\n",
    "# Сохраняем DataFrame в CSV файл\n",
    "df.to_csv('output_segmentation.csv', index=False)"
   ]
  },
  {
   "cell_type": "code",
   "execution_count": null,
   "id": "32efc9a0-d9db-4c62-af58-255512ac4efc",
   "metadata": {},
   "outputs": [],
   "source": []
  }
 ],
 "metadata": {
  "kernelspec": {
   "display_name": "Python 3 (ipykernel)",
   "language": "python",
   "name": "python3"
  },
  "language_info": {
   "codemirror_mode": {
    "name": "ipython",
    "version": 3
   },
   "file_extension": ".py",
   "mimetype": "text/x-python",
   "name": "python",
   "nbconvert_exporter": "python",
   "pygments_lexer": "ipython3",
   "version": "3.11.7"
  }
 },
 "nbformat": 4,
 "nbformat_minor": 5
}
