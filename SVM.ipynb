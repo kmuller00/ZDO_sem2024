{
 "cells": [
  {
   "cell_type": "code",
   "execution_count": 107,
   "id": "9e66d6a2-6787-493b-8941-bb341d40c11f",
   "metadata": {},
   "outputs": [
    {
     "name": "stdout",
     "output_type": "stream",
     "text": [
      "                                            filename  n_stiches\n",
      "0  SA_20220620-102621_8ka1kmwpywxv_incision_crop_...          2\n",
      "1  SA_20220620-102621_8ka1kmwpywxv_incision_crop_...          1\n",
      "2  SA_20220620-102621_8ka1kmwpywxv_incision_crop_...          2\n",
      "3  SA_20220620-102621_8ka1kmwpywxv_incision_crop_...          0\n",
      "4  SA_20220620-102621_8ka1kmwpywxv_incision_crop_...          4\n",
      "Epoch 1, Train Accuracy: 0.99, Test Accuracy: 0.35294117647058826\n",
      "Epoch 2, Train Accuracy: 0.99, Test Accuracy: 0.35294117647058826\n",
      "Epoch 3, Train Accuracy: 0.99, Test Accuracy: 0.35294117647058826\n",
      "Epoch 4, Train Accuracy: 0.99, Test Accuracy: 0.35294117647058826\n",
      "Epoch 5, Train Accuracy: 0.99, Test Accuracy: 0.35294117647058826\n",
      "Epoch 6, Train Accuracy: 0.99, Test Accuracy: 0.35294117647058826\n",
      "Epoch 7, Train Accuracy: 0.99, Test Accuracy: 0.35294117647058826\n",
      "Epoch 8, Train Accuracy: 0.99, Test Accuracy: 0.35294117647058826\n",
      "Epoch 9, Train Accuracy: 0.99, Test Accuracy: 0.35294117647058826\n",
      "Epoch 10, Train Accuracy: 0.99, Test Accuracy: 0.35294117647058826\n",
      "Epoch 11, Train Accuracy: 0.99, Test Accuracy: 0.35294117647058826\n",
      "Epoch 12, Train Accuracy: 0.99, Test Accuracy: 0.35294117647058826\n",
      "Epoch 13, Train Accuracy: 0.99, Test Accuracy: 0.35294117647058826\n",
      "Epoch 14, Train Accuracy: 0.99, Test Accuracy: 0.35294117647058826\n",
      "Epoch 15, Train Accuracy: 0.99, Test Accuracy: 0.35294117647058826\n",
      "Epoch 16, Train Accuracy: 0.99, Test Accuracy: 0.35294117647058826\n",
      "Epoch 17, Train Accuracy: 0.99, Test Accuracy: 0.35294117647058826\n",
      "Epoch 18, Train Accuracy: 0.99, Test Accuracy: 0.35294117647058826\n",
      "Epoch 19, Train Accuracy: 0.99, Test Accuracy: 0.35294117647058826\n",
      "Epoch 20, Train Accuracy: 0.99, Test Accuracy: 0.35294117647058826\n",
      "Epoch 21, Train Accuracy: 0.99, Test Accuracy: 0.35294117647058826\n",
      "Epoch 22, Train Accuracy: 0.99, Test Accuracy: 0.35294117647058826\n",
      "Epoch 23, Train Accuracy: 0.99, Test Accuracy: 0.35294117647058826\n",
      "Epoch 24, Train Accuracy: 0.99, Test Accuracy: 0.35294117647058826\n",
      "Epoch 25, Train Accuracy: 0.99, Test Accuracy: 0.35294117647058826\n",
      "Epoch 26, Train Accuracy: 0.99, Test Accuracy: 0.35294117647058826\n",
      "Epoch 27, Train Accuracy: 0.99, Test Accuracy: 0.35294117647058826\n",
      "Epoch 28, Train Accuracy: 0.99, Test Accuracy: 0.35294117647058826\n",
      "Epoch 29, Train Accuracy: 0.99, Test Accuracy: 0.35294117647058826\n",
      "Epoch 30, Train Accuracy: 0.99, Test Accuracy: 0.35294117647058826\n",
      "Epoch 31, Train Accuracy: 0.99, Test Accuracy: 0.35294117647058826\n",
      "Epoch 32, Train Accuracy: 0.99, Test Accuracy: 0.35294117647058826\n",
      "Epoch 33, Train Accuracy: 0.99, Test Accuracy: 0.35294117647058826\n",
      "Epoch 34, Train Accuracy: 0.99, Test Accuracy: 0.35294117647058826\n",
      "Epoch 35, Train Accuracy: 0.99, Test Accuracy: 0.35294117647058826\n",
      "Epoch 36, Train Accuracy: 0.99, Test Accuracy: 0.35294117647058826\n",
      "Epoch 37, Train Accuracy: 0.99, Test Accuracy: 0.35294117647058826\n",
      "Epoch 38, Train Accuracy: 0.99, Test Accuracy: 0.35294117647058826\n",
      "Epoch 39, Train Accuracy: 0.99, Test Accuracy: 0.35294117647058826\n",
      "Epoch 40, Train Accuracy: 0.99, Test Accuracy: 0.35294117647058826\n",
      "Epoch 41, Train Accuracy: 0.99, Test Accuracy: 0.35294117647058826\n",
      "Epoch 42, Train Accuracy: 0.99, Test Accuracy: 0.35294117647058826\n",
      "Epoch 43, Train Accuracy: 0.99, Test Accuracy: 0.35294117647058826\n",
      "Epoch 44, Train Accuracy: 0.99, Test Accuracy: 0.35294117647058826\n",
      "Epoch 45, Train Accuracy: 0.99, Test Accuracy: 0.35294117647058826\n",
      "Epoch 46, Train Accuracy: 0.99, Test Accuracy: 0.35294117647058826\n",
      "Epoch 47, Train Accuracy: 0.99, Test Accuracy: 0.35294117647058826\n",
      "Epoch 48, Train Accuracy: 0.99, Test Accuracy: 0.35294117647058826\n",
      "Epoch 49, Train Accuracy: 0.99, Test Accuracy: 0.35294117647058826\n",
      "Epoch 50, Train Accuracy: 0.99, Test Accuracy: 0.35294117647058826\n",
      "Epoch 51, Train Accuracy: 0.99, Test Accuracy: 0.35294117647058826\n",
      "Epoch 52, Train Accuracy: 0.99, Test Accuracy: 0.35294117647058826\n",
      "Epoch 53, Train Accuracy: 0.99, Test Accuracy: 0.35294117647058826\n",
      "Epoch 54, Train Accuracy: 0.99, Test Accuracy: 0.35294117647058826\n",
      "Epoch 55, Train Accuracy: 0.99, Test Accuracy: 0.35294117647058826\n",
      "Epoch 56, Train Accuracy: 0.99, Test Accuracy: 0.35294117647058826\n",
      "Epoch 57, Train Accuracy: 0.99, Test Accuracy: 0.35294117647058826\n",
      "Epoch 58, Train Accuracy: 0.99, Test Accuracy: 0.35294117647058826\n",
      "Epoch 59, Train Accuracy: 0.99, Test Accuracy: 0.35294117647058826\n",
      "Epoch 60, Train Accuracy: 0.99, Test Accuracy: 0.35294117647058826\n",
      "Epoch 61, Train Accuracy: 0.99, Test Accuracy: 0.35294117647058826\n",
      "Epoch 62, Train Accuracy: 0.99, Test Accuracy: 0.35294117647058826\n",
      "Epoch 63, Train Accuracy: 0.99, Test Accuracy: 0.35294117647058826\n",
      "Epoch 64, Train Accuracy: 0.99, Test Accuracy: 0.35294117647058826\n",
      "Epoch 65, Train Accuracy: 0.99, Test Accuracy: 0.35294117647058826\n",
      "Epoch 66, Train Accuracy: 0.99, Test Accuracy: 0.35294117647058826\n",
      "Epoch 67, Train Accuracy: 0.99, Test Accuracy: 0.35294117647058826\n",
      "Epoch 68, Train Accuracy: 0.99, Test Accuracy: 0.35294117647058826\n",
      "Epoch 69, Train Accuracy: 0.99, Test Accuracy: 0.35294117647058826\n",
      "Epoch 70, Train Accuracy: 0.99, Test Accuracy: 0.35294117647058826\n",
      "Epoch 71, Train Accuracy: 0.99, Test Accuracy: 0.35294117647058826\n",
      "Epoch 72, Train Accuracy: 0.99, Test Accuracy: 0.35294117647058826\n",
      "Epoch 73, Train Accuracy: 0.99, Test Accuracy: 0.35294117647058826\n",
      "Epoch 74, Train Accuracy: 0.99, Test Accuracy: 0.35294117647058826\n",
      "Epoch 75, Train Accuracy: 0.99, Test Accuracy: 0.35294117647058826\n",
      "Epoch 76, Train Accuracy: 0.99, Test Accuracy: 0.35294117647058826\n",
      "Epoch 77, Train Accuracy: 0.99, Test Accuracy: 0.35294117647058826\n",
      "Epoch 78, Train Accuracy: 0.99, Test Accuracy: 0.35294117647058826\n",
      "Epoch 79, Train Accuracy: 0.99, Test Accuracy: 0.35294117647058826\n",
      "Epoch 80, Train Accuracy: 0.99, Test Accuracy: 0.35294117647058826\n",
      "Epoch 81, Train Accuracy: 0.99, Test Accuracy: 0.35294117647058826\n",
      "Epoch 82, Train Accuracy: 0.99, Test Accuracy: 0.35294117647058826\n",
      "Epoch 83, Train Accuracy: 0.99, Test Accuracy: 0.35294117647058826\n",
      "Epoch 84, Train Accuracy: 0.99, Test Accuracy: 0.35294117647058826\n",
      "Epoch 85, Train Accuracy: 0.99, Test Accuracy: 0.35294117647058826\n",
      "Epoch 86, Train Accuracy: 0.99, Test Accuracy: 0.35294117647058826\n",
      "Epoch 87, Train Accuracy: 0.99, Test Accuracy: 0.35294117647058826\n",
      "Epoch 88, Train Accuracy: 0.99, Test Accuracy: 0.35294117647058826\n",
      "Epoch 89, Train Accuracy: 0.99, Test Accuracy: 0.35294117647058826\n",
      "Epoch 90, Train Accuracy: 0.99, Test Accuracy: 0.35294117647058826\n",
      "Epoch 91, Train Accuracy: 0.99, Test Accuracy: 0.35294117647058826\n",
      "Epoch 92, Train Accuracy: 0.99, Test Accuracy: 0.35294117647058826\n",
      "Epoch 93, Train Accuracy: 0.99, Test Accuracy: 0.35294117647058826\n",
      "Epoch 94, Train Accuracy: 0.99, Test Accuracy: 0.35294117647058826\n",
      "Epoch 95, Train Accuracy: 0.99, Test Accuracy: 0.35294117647058826\n",
      "Epoch 96, Train Accuracy: 0.99, Test Accuracy: 0.35294117647058826\n",
      "Epoch 97, Train Accuracy: 0.99, Test Accuracy: 0.35294117647058826\n",
      "Epoch 98, Train Accuracy: 0.99, Test Accuracy: 0.35294117647058826\n",
      "Epoch 99, Train Accuracy: 0.99, Test Accuracy: 0.35294117647058826\n",
      "Epoch 100, Train Accuracy: 0.99, Test Accuracy: 0.35294117647058826\n"
     ]
    },
    {
     "data": {
      "image/png": "[encoded data removed]",
      "text/plain": [
       "<Figure size 640x480 with 1 Axes>"
      ]
     },
     "metadata": {},
     "output_type": "display_data"
    }
   ],
   "source": [
    "import numpy as np\n",
    "from sklearn import svm\n",
    "from sklearn.model_selection import train_test_split\n",
    "from sklearn.metrics import accuracy_score\n",
    "import pandas as pd\n",
    "import cv2\n",
    "import os\n",
    "from skimage.transform import resize\n",
    "# Предположим, что у вас есть данные в формате X (признаки) и y (метки)\n",
    "# X должен быть двумерным массивом, где каждая строка представляет изображение,\n",
    "# а y - одномерным массивом, где каждый элемент является количеством швов на соответствующем изображении\n",
    "df2 = pd.read_csv('output_segmentation.csv')\n",
    "print(df2.head())\n",
    "y=df2[\"n_stiches\"]\n",
    "X=[]\n",
    "folder_path = \"D:/ZDO/semestralni prace/images/incision_couples\"\n",
    "desired_width = 60\n",
    "desired_height = 152\n",
    "\n",
    "# Проход по всем файлам в папке\n",
    "for filename in os.listdir(folder_path):\n",
    "    img_path = os.path.join(folder_path, filename)\n",
    "    if os.path.isfile(img_path):\n",
    "        # Загрузка изображения с помощью scikit-image\n",
    "        img = skimage.io.imread(img_path, as_gray=True)\n",
    "        # Изменение размера изображения до желаемого размера\n",
    "        edge_roberts = skimage.filters.roberts(img)\n",
    "\n",
    "        nhanced_image = exposure.equalize_adapthist(edge_roberts, clip_limit=0.02)\n",
    "        resized_img = resize(nhanced_image, (desired_width, desired_height), anti_aliasing=True)\n",
    "        # Преобразование изображения в одномерный массив признаков и добавление в список X_train\n",
    "        X.append(resized_img.flatten())\n",
    "# Преобразование списка массивов признаков в массив numpy\n",
    "X1 = np.array(X)\n",
    "\n",
    "\n",
    "# Разделение данных на обучающий и тестовый наборы\n",
    "X_train, X_test, y_train, y_test = train_test_split(X, y, test_size=0.25, random_state=42)\n",
    "\n",
    "# Создание модели SVM\n",
    "model = svm.SVC(kernel='linear')  # Линейное ядро\n",
    "\n",
    "train_accuracies = []\n",
    "test_accuracies = []\n",
    "for epoch in range(1, 101):\n",
    "    model.fit(X_train, y_train)\n",
    "    train_accuracy = model.score(X_train, y_train)\n",
    "    test_accuracy = model.score(X_test, y_test)\n",
    "    train_accuracies.append(train_accuracy)\n",
    "    test_accuracies.append(test_accuracy)\n",
    "    print(f\"Epoch {epoch}, Train Accuracy: {train_accuracy}, Test Accuracy: {test_accuracy}\")\n",
    "\n",
    "# Построение графика точности на обучающем и тестовом наборах данных\n",
    "plt.plot(range(1, 101), train_accuracies, label='Train Accuracy')\n",
    "plt.plot(range(1, 101), test_accuracies, label='Test Accuracy')\n",
    "plt.xlabel('Epoch')\n",
    "plt.ylabel('Accuracy')\n",
    "plt.title('Training Progress')\n",
    "plt.legend()\n",
    "plt.show()"
   ]
  },
  {
   "cell_type": "code",
   "execution_count": 81,
   "id": "3dab3191-b061-4154-bdcc-d8bfe47e2608",
   "metadata": {},
   "outputs": [
    {
     "name": "stdout",
     "output_type": "stream",
     "text": [
      "0.9626865671641791\n"
     ]
    }
   ],
   "source": [
    "train_accuracy = model.score(X, y)\n",
    "print(train_accuracy)"
   ]
  },
  {
   "cell_type": "code",
   "execution_count": 97,
   "id": "3fb78db5-8da0-4491-9d2f-434b398fc303",
   "metadata": {},
   "outputs": [
    {
     "name": "stdout",
     "output_type": "stream",
     "text": [
      "[1]\n"
     ]
    }
   ],
   "source": [
    "prediction = model.predict(X_test)\n",
    "print(prediction)"
   ]
  },
  {
   "cell_type": "code",
   "execution_count": 86,
   "id": "37f072c6-3659-4007-927b-8549b2fcbbdb",
   "metadata": {},
   "outputs": [
    {
     "name": "stdout",
     "output_type": "stream",
     "text": [
      "3\n",
      "3\n",
      "3\n",
      "3\n",
      "3\n",
      "3\n",
      "3\n",
      "42.857142857142854\n"
     ]
    }
   ],
   "source": [
    "goal=[3,4,1,3,1,2,5]\n",
    "score=0\n",
    "for index in range(0, len(goal)):\n",
    "    print(goal[0])\n",
    "    if goal[index]==prediction[index]:\n",
    "        score=score+1\n",
    "normilized_score=score/len(goal)*100\n",
    "print(normilized_score)"
   ]
  },
  {
   "cell_type": "code",
   "execution_count": 98,
   "id": "98502fd6-a07e-46ea-bdd2-e6022561da62",
   "metadata": {},
   "outputs": [
    {
     "data": {
      "text/plain": [
       "127    3\n",
       "Name: n_stiches, dtype: int64"
      ]
     },
     "execution_count": 98,
     "metadata": {},
     "output_type": "execute_result"
    }
   ],
   "source": [
    "y_test\n"
   ]
  },
  {
   "cell_type": "code",
   "execution_count": null,
   "id": "d9821bf0-7026-4dfd-9a4f-a465066bc68b",
   "metadata": {},
   "outputs": [],
   "source": []
  }
 ],
 "metadata": {
  "kernelspec": {
   "display_name": "Python 3 (ipykernel)",
   "language": "python",
   "name": "python3"
  },
  "language_info": {
   "codemirror_mode": {
    "name": "ipython",
    "version": 3
   },
   "file_extension": ".py",
   "mimetype": "text/x-python",
   "name": "python",
   "nbconvert_exporter": "python",
   "pygments_lexer": "ipython3",
   "version": "3.11.7"
  }
 },
 "nbformat": 4,
 "nbformat_minor": 5
}
